### MySQL basics

# SQL was first named as SEQUEL(structured english query langauge) introduced by IBM as the first query langauge
# SQL(structured qeury language) is a programming language used to interact with relational DBMS to make changes in the database (collection of data in a format that can be easily accessed digitally)
# DBMS(database management system) is a software application used to manage data, it forms as an interface between user and data
# The DBMS interprets and executes SQL queries and commands. It translates SQL statements into actions that manipulate the data in the database
# there are 2 types of databases - relational(data stored in form of tables) and non-relational(data stored not in tables)
# relational- SQLserver, MySQL, PostgreSQL, Oracle
# non relational - MongoDB, cassendra, Redis
# SQL is used to perform 4 main operations- CRUD(create, read, update, delete)
# SQL commands are case sensitive(i.e CREATE DATABASE/create database) recommended to use uppercase
# to get things started in SQL workbench, first create new connection -> save the sql file
# the schema window is similar to file explore
# the run button at top runs the whole commands, while we can also run the selected segment by clicking the adjacent run button (if we click run everytime we add a new line, we run the old lines again and again trying to create multiple database with same name which gives error)
# action output window shows the history of queries (run, error, warning)
# SQL commands require semicolon for termination
# the code that we write using SQL are called queries
# queries are generally executed from right to left
# Both the webserver and database server work closely to fetch data to the client. for eg: if client is the customer and webserver is the shopkeeper then database server keeps track of the order,price etc
# the webserver and database server can be built on the same machine or different ones

# CREATE DATABASE db_name -> creates a database
# DROP db_name -> deletes database
# USE db_name -> uses database, if we are creating a table, we are informing DBMS that it is created in this database only

#    CREATE TABLE table_name(                                      for eg:                CREATE TABLE student(
#    column_name1 datatype constraint,                                                    id INT PRIMARY KEY,
#    column_name2 datatype constraint,  -> creates a table                                name VARCHAR(50),
#    column_name2 datatype constraint                                                     age INT NOT NULL
# );                                                                                      );

# DROP TABLE table_name -> deletes the table inside DB (ensure that u mention what DB u r deleting it from, i.e USE db_name followed by DROP TABLE table_)
# PRIMARY KEY -> ensuers that the block is not null and has a unique value (since Id is unique, generally PRIMARY KEYS are used)
# INSERT INTO student VALUES(1, "AMAN",26); -> inserts the given values in corresponding columns of the table
# clicking on i icon of student opens a new table db_name.table_name where details like info, columns, triggers, foreign keys, grants etc
# SELECT * FROM table_name -> used to display the table with inserted details, result grid tab is popped. The * refers to "all"

# several datatypes -> CHAR, VARCHAR, BLOB, INT, TINYINT, BIGINT, BIT, FLOAT, DOUBLE, BOOLEAN, DATE, YEAR
# CHAR can store characters of fixed length. CHAR(50) -> occupies full 50 in memory whether fully filled or not
# VARCHAR  can store characters upto given length. VAR(50) -> occupies only upto given input and is memory efficient than CHAR since it doesnt fully occupy all 50 spaces
# BLOB is used to store large strings(i.e data in a file) . BLOB(MAXVALUE)-> BLOB(1000)
# INT can store any integer from 2^31-1 to -2^31 while TINYINT can store from -128 to 127 and BIGINT stores very large integers
# BIT can store X bit values. X can range from 1 to 64. for eg: BIT(1) can store either 0,1 BIT(2) can store 00,01,10,11
# FLOAT can store decimal values with precision upto 23 digits while DOUBLE can store 24 upto 53 digits
# BOOLEAN stores 0 or 1 (false or true)
# DATE stores date in the format YYYY-MM-DD ranging from 1000-01-01 to 9999-12-31 and YEAR stores 4 digit number ranging from 1901 to 2155

# we can manipulate the range of datatypes by mentioning whether it is signed/unsigned. for eg: TINYINT UNSIGNED ranges from 0 to 255 while TINYINT SIGNED ranges from -128 to 127(default)

# there are 5 types of SQL commands, they are:
# 1. DDL(data definition language) : create, alter, rename, truncate, drop
# 2. DQL(data query language) : select
# 3. DML(data manipulation langauge) : insert, update, delete
# 4. DCL(data control language) : grant and revoke permissions to users
# 5. TCL(transaction control langauge) : start transaction, commit, rollback

# CREATE DATABASE IF NOT EXISTS db_name (good practice)-> checks whether any database with db_name already exists and if it doesnt exist, then creates the DB and if it does, then a warning is given stating that already a DB exists with the given name
# DROP DATABSE IF EXISTS db_name -> deletes DB only if db_name exists and if not, then warning is stated

# SHOW DATABASES -> shows all DB in server, diplayed in result grid
# apart from the DB's that we create, there are some internal DB's created by MySQL like information_schema, mysql, performance_schema, sys
# SHOW TABLES -> displays the tables used in DB

# Multi insertion sytax :
# INSERT INTO table_name      for eg:         INSERT INTO student
# (colname1,colname2)                         (rollno, name)
# VALUES                                      VALUES
# (col1_v1, col2_v1),                         (101,"arjun"),
# (col1_v2, col2_v2);                         (102,"Krish"),
#                                             (103,"varun");

# single insertion syntax -> INSERT INTO student VALUES (101, "arjun");
# if we want to insert just the id alone(in case name is set by default) -> INSERT INTO (id) student VALUES(101);
# primary key(PK) is a column(or a set of columns) which unquely identifies each row, there can be only 1 primary key and it shouldnt be NULL(i.e id)
# foriegn key(FK) is a column(or a set of columns) which is a primary key in another table, there can be multiple foreign keys. it can have duplicate and NULL values (basically carries the role of linking two tables)
# The table which uses the foreign key is called the child, and the table which is used to reference the child table is called the parent

# table1 - student                              table2- city
# ID    name    cityID    city               id       city_name
# 101   arjun    01       pune                2        mumbai              -> here ID is PK of student and id is PK of city, but since cityID is derived from id of city, it is FK of student
# 102   jon      02       mumbai              1        pune                -> cityID is PK of city(table2) but FK of student(table1)

# SQL constraints are used to specify rules for data in a table (colname dataype constraint), they are:
# 1. NOT NULL - columns cannot have null value for eg: col1 int NOT NULL
# 2. UNIQUE - all values in columns are different for eg: col2 int UNIQUE
# 3. PRIMARY KEY - makes a column unique & not null but used only for one column
# difference between UNIQUE and PRIMARY KEY is that the former can be used in multiple columns and it allows NULL value while the latter doesnt
# PRIMARY KEY(id,name) -> ensures that the combination of id and name are unique. for eg: 101 robert
#                                                                                         102 robert   ->here eventhough name isnt unique, combination of name and id is still unique

#  CREATE TABLE temp(
#    cust_id INT,
#    FOREIGN KEY(cust_id) REFERENCES customer(id)   -> here we are making cust_id column of table TEMP a foreign key by linking a primary key(id column of table CUSTOMER)
#    );                                             -> general format : FOREIGN KE(new_col) REFERENCES old_table(old_col)

# DEFAULT -> sets the default value of a column. syntax : salary INT DEFAULT 25000 (col_name datatype DEFAULT default_value)
# CHECK -> it can limit the values allowed in a column. the condition must be satisfied for a row to be inserted or updated in a table. for eg:

# CREATE TABLE city(
#  id INT PRIMARY KEY,
#  citY VARCHAR(50),
#  age INT,
#  CONSTRAINT age_check CHECK (AGE>=18 and city="delhi")   -> age_check is the name of constraint, CHECK() is the condition
#  );

# CREATE TABLE newTab(
#  age INT CHECK(age>=18)
#  );

# SELECT -> used to select any data from the DB
# syntax : SELECT col1, col2 FROM table_name;  (to select all -> SELECT * FROM table_name)
# SELECT DISTINCT col1 FROM table_name -> shows only distinct rows of that column in the result grid

# INSERT INTO student
# (rollno, name, marks, grade, city)
# VALUES
# (101, "anit", 70, "C","Pune"),
# (102, "bhumika", 93, "A","Mumbai"),
# (103, "chetan", 85, "B","Mumbai"),            -> output:  city
# (104, "dhruv", 96, "A","Delhi"),                          Pune
# (105, "emanue", 12, "F","Delhi"),                         Mumbai
# (106, "farah", 82, "B","Delhi");                          Delhi
# SELECT DISTINCT city FROM student;

# WHERE -> to define some conditions
# SELECT col1, col2 FROM table_name WHERE conditions;
# for eg: SELECT * FROM student WHERE marks>80;
# SELECT * FROM student WHERE city = "Mumbai" AND marks>90;  -> multiple conditions joined by 'AND'

# difference between WHERE(clause) and CHECK:
# CHECK is used to define constraints on the data at the table's column level, ensuring data integrity, while WHERE is used in SQL queries to filter rows in result sets or specify conditions for data manipulation operations
# arithmetic operators: +,-,*,/,%
# comparison operators: =(equal to), !=(not equal to),>,<,>=,<=
# logical operators: AND,OR,NOT,IN,BETWEEN,ALL,LIKE,ANY
# bitwise operators: & (bitwise AND), | (bitwise OR)

# these operators can also be used in WHERE conditions.for eg:
# SELECT * FROM student WHERE marks+10>100;
# SELECT * FROM student WHERE city IN ("Delhi","Mumbai","Gurgoan"); -> it will not show error due to gurgoan, it will simply check whether any entry has gurgoan as city (IN matches any value in the list)
# SELECT * FROM student WHERE city IN ("hyderabad","gurgoan") -> displays table with null value , if the same statement but 'NOT IN' used, then all entries are displayed (NOT IN negates given condition)
# SELECT * FROM student WHERE marks BETWEEN 80 AND 90; (BETWEEN selects for a given range)

# LIMIT (clause) -> sets an upper limit on number of(tuples) rows to be returned.
# for eg: SELECT * FROM student LIMIT 3; -> displays info of only first 3 rows and the 4th row shows NULL(nothing below it). we can also use WHERE conditions like SELECT * FROM student WHERE marks>75 LIMIT 3;
# OFFSET -> it is used to determine the nth row from which displaying begins
# for eg: SELECT * FROM student LIMIT 3 OFFSET 2; -> displays the 2nd,3rd,4th row

# ORDER BY (clause) -> to sort in ascending(ASC) or descending order(DESC)
# for eg: SELECT * FROM student ORDER BY city ASC; -> orders the city by alphabetical order (from A to Z)
# ORDER BY is ascending by default (if ASC or DSC not mentioned)

# we can also type the command in the below fashion:
#    SELECT *
#    FROM student
#    ORDER by marks ASC;

# aggregate functions -> COUNT(), MAX(), MIN(), SUM(), AVG()
# these functions perform a calculation on a set of values, and returns a single value
# for eg: if we give COUNT("jon1","jon2","jon3") -> returns 3 or COUNT(rollno)-> 8. SELECT MAX(marks) FROM student; -> displays maximum marks alone

# GROUP BY (clause) -> group rows that have the same values into summary rows.
# it collects data from multiple records and groups the result by one or more column
# generally we use group by with some aggreagation function
# for eg : count number of students in each city
# SELECT city, COUNT(rollno)             pune     1
# FROM student                       ->  delhi    3
# GROUP BY city;                         mumbai   2

# ensure that the no of groups >= no of coloumns selected, for eg: in the above code SELECT city,name, count(rollno) would give error since there is no group in name

# SELECT city, COUNT(rollno)               city    name    count(rollno)
# FROM student                      ->     pune     anil         1
# GROUP BY city,name;                      Mumbai   chetan       1
# if there were two chetans in Mumbai, then count(rollno) would have been 2

# Q. write a query to find avg marks in each city in ascending order
# ANS:
# SELECT city, avg(marks)
# FROM student
# GROUP BY city
# ORDER BY avg(marks); -> by default ORDER BY is ascending

# Q. for the given table, find the total payment according to each payment method
# ANS:
# CREATE DATABASE BANK;
# USE BANK;
# CREATE TABLE customer_info(
#	customer_id INT PRIMARY KEY,
#    customer VARCHAR(50),
#    paymode VARCHAR(50),
#    city VARCHAR(50)
# );
# INSERT INTO customer_info
# (customer_id,customer,paymode, city)
# VALUES
# (101,"olivia","netbanking","portland"),
# (102,"ethan sinclair","credit card","miami"),
# (103,"maya henandez","credit card","seattle"),
# (104,"liam","netbanking","denver"),
# (105,"sophia","credit card","new orleans"),
# (106,"caleb","debit card","minneapolis"),                 -> OUTPUT :  netbanking     4
# (107,"ava patel","debit card","phoenix"),                              credit card    4
# (108,"lucas","netbanking","boston"),                                   debit card     2
# (109,"isabella","netbanking","nashville"),
# (110,"jackson","credit card","boston");
# SELECT paymode, COUNT(paymode)/COUNT(customer_id)
# FROM customer_info
# GROUP BY paymode;

# there is error code for each error shown in the message column, we can google the error code for description, for eg: error code 1064-> syntax error

# HAVING (clause) -> similar to where i.e applies some condition on rows
# used when we want to apply condition after grouping
# for eg: count number of students in each city where max marks cross 90
# SELECT COUNT(name), city
# FROM student
# GROUP BY city
# HAVING MAX(marks)>90;

# general order
# SELECT column(s)
# FROM table_name
# WHERE condition                        WHERE -> applies condition on rows
# GROUP BY column(s)
# HAVING condition                       HAVING -> applies condition on groups
# ORDER BY column(s) ASC;

# UPDATE - to change values of existing tables
# syntax: UPDATE table_name                UPDATE student
#         SET col1=val1, col2=val2         SET grade="B"
#         WHERE condition;                 WHERE grade="A";

# error code 1175 : you are safe update mode
# by default MySQL is in safe mode, so as to prevent unintentional changes in DB
# SET SQL_SAFE_UPDATES=0; -> turns off safe mode (if 1, then turns on)

# DELETE - to delete existing rows
# DELETE FROM table_name              DELETE FROM student
# WHERE condition;                    WHERE marks<33;          -> deletes data of all students whose marks below 33 from DB

# Cascading for Foreign key
# on delete cascade - when we create a foreign key using this option, it deletes the referencing rows in the child table when the referenced row is deleted in the parent table which has a primary key
# on update cascade - when we create a foreign key using UPDATE CASCADE the referencing rows are updated in the child table when the referenced row is updated in the parent table which has a primary key

# ALTER - to change the schema (basic design like columns, datatypes,constraints)
# for eg: to add a coloumn ->    ALTER TABLE table_name
#                                ADD COLUMN column_name datatype constraint;

# for eg: to delete a coloumn -> ALTER TABLE table_name
#                                DROP COLUMN column_name;

# for eg: to rename table ->     ALTER TABLE table_name
#                                RENAME TO new_table_name;

# for eg: to change a column ->  ALTER TABLE table_name
#                                CHANGE COLUMN old_name new_name new_datatype new_constraint;

# for eg: to modify a column ->  ALTER TABLE table_name
# (modify datatype/constraint)   MODIFY col_name new_datatype new_constraint;

# TRUNCATE TABLE table_name -> to delete table's data
# difference between DROP and TRUNCATE is that the former deletes the table while TRUNCATE deletes only the table's data and not the table

# JOINS are used to combine rows from two or more tables, based on a related column between them
# there are two types of joins: inner and outer joins
# outer joins-> left join, right join, full join
# inner join gives only data that is common to both table A and B (A intersection B)
# left join gives data common to A and B + data in A that is not common to B (whole A)
# right join gives data common to A and B + data in B that is not common to A (whole B)
# full join gives data common to A and B + data in A and B that is not common to each other (A union B)

# inner join -> returns records that have matching values in both tables
# syntax :   SELECT column(s)                 for eg:          SELECT *
#            FROM tableA                                       FROM student
#            INNER JOIN tableB                                 INNER JOIN course
#            ON tableA.col_name = tableB.col_name;             ON student.student_id=course.student_id; -> specifying what columns of the two tables are we checking joins for

# we can also use alias names (short forms)
# SELECT *
# FROM student AS s
# INNER JOIN course AS c
# ON s.student_id= c.student_id

# left join -> returns all records from the left table, and the matched records from the right table
# syntax :   SELECT column(s)
#            FROM tableA
#            LEFT JOIN tableB
#            ON tableA.col_name=tableB.col_name;

# Right join -> returns all records from the right table, and the matched records from the left table
# syntax :   SELECT column(s)
#            FROM tableA
#            RIGHT JOIN tableB
#            ON tableA.col_name=tableB.col_name;

# full join -> returns all records when there is a match in either left or right table
# syntax :   SELECT * FROM student as a
#            LEFT JOIN course as b
#            ON a.id=b.id
#            UNION                            FULL JOIN = LEFT + UNION + RIGHT
#            SELECT * FROM student as a
#            RIGHT JOIN course as b
#            ON a.id=b.id

# there is no keyword like FULL JOIN or FULL OUTER JOIN in MySQL unlike postgre SQL, oracle

# left exclusive join -> data in A that is not common in B
# syntax:   SELECT *
#           FROM student as a
#           LEFT JOIN course as b
#           ON a.id=b.id
#           WHERE b.id IS NULL;

# Right exclusive join -> data in B that is not common in A
# syntax:   SELECT *
#           FROM student as a
#           RIGHT JOIN course as b
#           ON a.id=b.id
#           WHERE a.id IS NULL;

# self join -> it is a regular join but the table is joined with itself
# syntax:   SELECT column(s)
#           FROM table as a
#           JOIN table as b
#           ON a.col_name=b.col_name;

# self join is used in the below case:
# id    name     manager_id                          SELECT a.name as manager_name, b.name           manager_name        name
# 101   adam     103 (cassy)                         FROM employee as a                                casey             adam
# 102   bob      104 (donald)                 ->     JOIN employee as b                        ->      donald            bob
# 103   cassey   null                                ON a.id = b.manager_id                            casey             donald
# 104   donald   103 (cassy)

# union -> it is used to combine the result-set of two or more SELECT statements and gives UNIQUE records
# if suppose A has casey,bob,adam and B has bob,jon,tom then UNION of A and B gives casey,bob,adam,jon,tom (basically removes duplicates)
# to use it: every SELECT should have same no of columns
#            columns must have similar data types
#            columns in every SELECT should be in same order

# syntax: SELECT column(s) FROM tableA
#         UNION
#         SELECT column(s) FROM tableB

# UNION ALL -> same as UNION but includes duplicate also (basically combines A and B blindly)

# subquery -> also known as inner query or a nested query is a query within another SQL query, it involves 2 select statements
# syntax :   SELECT column(s)
#            FROM table_name
#            WHERE col_name operator
#            (subquery);

# for eg: get name of all students who scored more than class average
# step 1: find the avg of class
# step 2: find names of students with marks>avg
# dynamic code:    SELECT name,marks
#                  FROM student
#                  WHERE marks > (SELECT AVG(marks) FROM student); -{subquery}

# till now we have been doing :  SELECT name,marks            SELECT AVG(marks)
#                                FROM student                 FROM student       -> this is where we obtained 87.6
#                                WHERE marks > 87.6;

# Q. display all names with even roll no
# basic code : SELECT name
#              FROM student
#              WHERE rollno%2=0;
# dynamic code: SELECT name
#               FROM student
#               WHERE rollno IN (SELECT rollno FROM student WHERE rollno%2=0)

# we can also assign alias for subqueries
# for eg: SELECT MAX(marks)
#         FROM (SELECT * FROM student WHERE city="delhi") AS temp             -> output : 96

# make sure subquery doesn't return multiple row
# SELECT (SELECT MAX(marks) FROM student), name FROM student; -> no error
# but SELECT(SELECT MAX(marks) FROM student), name FROM student; -> error since the subquery contains more than one row

# VIEW -> a view is a virtual table based on the result-set of an SQL statement
# CREATE VIEW view1 AS                                    -> naming the view table
# SELECT rollno, name FROM student;                       -> selecting tables in views table
# SELECT * FROM view1;                                    -> displaying view table

# a view always shows up-to-date data. the database engine recreates the view, everytime a user queries it. it doesnt affect the real database
# usage of VIEWS -> imagine a company has multiple departments, so if a department needs to look at a specific data alone, then they can select what they wanna view from the main table(basically viewing a part of the table of our choice)

# deleting view table -> DROP VIEW view_name






##### PYTHON AND MYSQL (use pycharm)

# install mysql-connector / mysql-connector-python / mysql-python-rf

# to set-up a connection with database
import mysql.connector
mydb = mysql.connector.connect(
    host="localhost",
    user="root",
    passwd="123password"
)
print(mydb) -> # to check whether successful connection made

# initializing a cursor(object) which interacts with the entire mySQL server
mycursor=mydb.cursor()

# execute a sql statement
mycursor.execute("CREATE DATABASE testdb") -> # creates a database

mycursor.execute("SHOW DATABASES") -> #to display all DB created
for db in mycursor:
  print(db)

# to specify which DB is mySQL using, we have to type: database="testdb"
mydb = mysql.connector.connect(
    host="localhost",
    user="root",
    passwd="123password"        -> #do not repeat code, just edit after creating database
    database="testdb"
)

# creating table
mycursor.execute("CREATE TABLE students (name VARCHAR(50), age INTEGER(10))")
mycursor.execute("SHOW TABLES")
for tb in mycursor:
  print(tb)               -> # to check whether table is created

# creating SQL formula
sqlFormula ="INSERT INTO students (name,age) VALUES (%s,%s)" -> # placeholders

# creating data to be inserted
student1=("Rachel",22)

# inserting value into table(through SQL formula)
mycursor.execute(sqlFormula,student1)

# to save the changes
mydb.commit()              -> # to check whether the changes are made, open SQL workbench and save
# if the changes arent made in workbench, then type USE testdb    SELECT * FROM student in workbench itself

# to insert multiple values
sqlFormula = "INSERT INTO students (name,age) VALUES (%s,%s)"
students=[("bob",12),
          ("Amanda",32),
          ("Jacob",21),
          ("Avi",28),
          ("Michelle",17),]
mycursor.executemany(sqlFormula,students)
mydb.commit()

# to display table
mycursor.execute("SELECT * FROM students")
myresult=mycursor.fetchall()
for row in myresults:
  print(row)

# to display one column of table
mycursor.execute("SELECT age FROM students")
# to display only one entry of one column 
myresult=mycursor.fetchone()

# using WHERE clause
mycursor=mydb.cursor()
sql="SELECT * FROM students WHERE age=17"
mycursor.execute(sql)
myresult=mycursor.fetchall()
for result in myresult:                           -> # myresulr returns a table, so we are iterating to print each row of the table
  print(result)

# using wildcards
sql = "SELECT * FROM students WHERE name LIKE 'Mi%" -> # selecting students in the name column whose name starts with Mi
Mi% - Mi is in start of text(name)
%Mi - Mi is in end of the text
%Mi% - Mi is in middle of text

# updating entries
sql="UPDATE students SET age=13 WHERE name='bob"
mycursor.execute(sql)
mydb.commit()

# Deleting entries
sql= "DELETE FROM students WHERE name='Mike'"

# Dropping table
sql="DROP TABLE IF EXISTS students"
# limiting queries
sql="SELECT * FROM students LIMIT 5"

#ORDERING QUERIES
sql="SELECT * FROM students ORDER BY name DESC/ASC"

#NOTE: IT IS ALWAYS RECOMMENDED TO USE A VARIABLE LIKE sql TO ASSIGN COMMANDS RATHER THAN DIRECTLY TYPING COMMAND INSIDE EXECUTE SINCE IT IS VULNERABLE TO 'SQL INJECTION'
